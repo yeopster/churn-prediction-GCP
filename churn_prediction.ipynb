{
  "cells": [
    {
      "cell_type": "code",
      "id": "ZuqI81t4qJ1RGEESNidZ7k1z",
      "metadata": {
        "tags": [],
        "id": "ZuqI81t4qJ1RGEESNidZ7k1z"
      },
      "source": [
        "import pandas as pd\n",
        "import tensorflow as tf\n",
        "from sklearn.model_selection import train_test_split\n",
        "from sklearn.preprocessing import StandardScaler"
      ],
      "execution_count": null,
      "outputs": []
    },
    {
      "cell_type": "code",
      "source": [
        "from google.cloud import bigquery\n",
        "client = bigquery.Client()\n",
        "query = \"SELECT * FROM `customer-churn-451414.customer_churn_data.customer_churn`\"\n",
        "df = client.query(query).to_dataframe()\n"
      ],
      "metadata": {
        "id": "gkbPdx_ZrRsC"
      },
      "id": "gkbPdx_ZrRsC",
      "execution_count": null,
      "outputs": []
    },
    {
      "cell_type": "code",
      "source": [
        "df.head()"
      ],
      "metadata": {
        "colab": {
          "base_uri": "https://localhost:8080/",
          "height": 359
        },
        "id": "7FbXOLJtrdIY",
        "outputId": "347bf6a5-c5fb-4071-a2a3-4a0295b477a1"
      },
      "id": "7FbXOLJtrdIY",
      "execution_count": null,
      "outputs": [
        {
          "output_type": "execute_result",
          "data": {
            "text/plain": [
              "   customerID  gender  SeniorCitizen  Partner  Dependents  tenure  \\\n",
              "0  3115-CZMZD    Male              0        0           1       0   \n",
              "1  7644-OMVMY    Male              0        1           1       0   \n",
              "2  2520-SGTTA  Female              0        1           1       0   \n",
              "3  2923-ARZLG    Male              0        1           1       0   \n",
              "4  3213-VVOLG    Male              0        1           1       0   \n",
              "\n",
              "   PhoneService MultipleLines       OnlineSecurity         OnlineBackup  ...  \\\n",
              "0             1            No  No internet service  No internet service  ...   \n",
              "1             1            No  No internet service  No internet service  ...   \n",
              "2             1            No  No internet service  No internet service  ...   \n",
              "3             1            No  No internet service  No internet service  ...   \n",
              "4             1           Yes  No internet service  No internet service  ...   \n",
              "\n",
              "  InternetService_no Contract_month-to-month Contract_one_year  \\\n",
              "0                  1                    <NA>              <NA>   \n",
              "1                  1                    <NA>              <NA>   \n",
              "2                  1                    <NA>              <NA>   \n",
              "3                  1                    <NA>                 1   \n",
              "4                  1                    <NA>              <NA>   \n",
              "\n",
              "  Contract_two_year  PaymentMethod_electronic_check  \\\n",
              "0                 1                            <NA>   \n",
              "1                 1                            <NA>   \n",
              "2                 1                            <NA>   \n",
              "3              <NA>                            <NA>   \n",
              "4                 1                            <NA>   \n",
              "\n",
              "   PaymentMethod_mailed_check  PaymentMethod_bank_transfer__automatic_  \\\n",
              "0                           1                                     <NA>   \n",
              "1                           1                                     <NA>   \n",
              "2                           1                                     <NA>   \n",
              "3                           1                                     <NA>   \n",
              "4                           1                                     <NA>   \n",
              "\n",
              "   PaymentMethod_credit_card__automatic_  AvgMonthlySpend  TenureGroup  \n",
              "0                                   <NA>              0.0          New  \n",
              "1                                   <NA>              0.0          New  \n",
              "2                                   <NA>              0.0          New  \n",
              "3                                   <NA>              0.0          New  \n",
              "4                                   <NA>              0.0          New  \n",
              "\n",
              "[5 rows x 30 columns]"
            ],
            "text/html": [
              "\n",
              "  <div id=\"df-85e742d5-641a-48e9-a77f-7ee2bebb05b8\" class=\"colab-df-container\">\n",
              "    <div>\n",
              "<style scoped>\n",
              "    .dataframe tbody tr th:only-of-type {\n",
              "        vertical-align: middle;\n",
              "    }\n",
              "\n",
              "    .dataframe tbody tr th {\n",
              "        vertical-align: top;\n",
              "    }\n",
              "\n",
              "    .dataframe thead th {\n",
              "        text-align: right;\n",
              "    }\n",
              "</style>\n",
              "<table border=\"1\" class=\"dataframe\">\n",
              "  <thead>\n",
              "    <tr style=\"text-align: right;\">\n",
              "      <th></th>\n",
              "      <th>customerID</th>\n",
              "      <th>gender</th>\n",
              "      <th>SeniorCitizen</th>\n",
              "      <th>Partner</th>\n",
              "      <th>Dependents</th>\n",
              "      <th>tenure</th>\n",
              "      <th>PhoneService</th>\n",
              "      <th>MultipleLines</th>\n",
              "      <th>OnlineSecurity</th>\n",
              "      <th>OnlineBackup</th>\n",
              "      <th>...</th>\n",
              "      <th>InternetService_no</th>\n",
              "      <th>Contract_month-to-month</th>\n",
              "      <th>Contract_one_year</th>\n",
              "      <th>Contract_two_year</th>\n",
              "      <th>PaymentMethod_electronic_check</th>\n",
              "      <th>PaymentMethod_mailed_check</th>\n",
              "      <th>PaymentMethod_bank_transfer__automatic_</th>\n",
              "      <th>PaymentMethod_credit_card__automatic_</th>\n",
              "      <th>AvgMonthlySpend</th>\n",
              "      <th>TenureGroup</th>\n",
              "    </tr>\n",
              "  </thead>\n",
              "  <tbody>\n",
              "    <tr>\n",
              "      <th>0</th>\n",
              "      <td>3115-CZMZD</td>\n",
              "      <td>Male</td>\n",
              "      <td>0</td>\n",
              "      <td>0</td>\n",
              "      <td>1</td>\n",
              "      <td>0</td>\n",
              "      <td>1</td>\n",
              "      <td>No</td>\n",
              "      <td>No internet service</td>\n",
              "      <td>No internet service</td>\n",
              "      <td>...</td>\n",
              "      <td>1</td>\n",
              "      <td>&lt;NA&gt;</td>\n",
              "      <td>&lt;NA&gt;</td>\n",
              "      <td>1</td>\n",
              "      <td>&lt;NA&gt;</td>\n",
              "      <td>1</td>\n",
              "      <td>&lt;NA&gt;</td>\n",
              "      <td>&lt;NA&gt;</td>\n",
              "      <td>0.0</td>\n",
              "      <td>New</td>\n",
              "    </tr>\n",
              "    <tr>\n",
              "      <th>1</th>\n",
              "      <td>7644-OMVMY</td>\n",
              "      <td>Male</td>\n",
              "      <td>0</td>\n",
              "      <td>1</td>\n",
              "      <td>1</td>\n",
              "      <td>0</td>\n",
              "      <td>1</td>\n",
              "      <td>No</td>\n",
              "      <td>No internet service</td>\n",
              "      <td>No internet service</td>\n",
              "      <td>...</td>\n",
              "      <td>1</td>\n",
              "      <td>&lt;NA&gt;</td>\n",
              "      <td>&lt;NA&gt;</td>\n",
              "      <td>1</td>\n",
              "      <td>&lt;NA&gt;</td>\n",
              "      <td>1</td>\n",
              "      <td>&lt;NA&gt;</td>\n",
              "      <td>&lt;NA&gt;</td>\n",
              "      <td>0.0</td>\n",
              "      <td>New</td>\n",
              "    </tr>\n",
              "    <tr>\n",
              "      <th>2</th>\n",
              "      <td>2520-SGTTA</td>\n",
              "      <td>Female</td>\n",
              "      <td>0</td>\n",
              "      <td>1</td>\n",
              "      <td>1</td>\n",
              "      <td>0</td>\n",
              "      <td>1</td>\n",
              "      <td>No</td>\n",
              "      <td>No internet service</td>\n",
              "      <td>No internet service</td>\n",
              "      <td>...</td>\n",
              "      <td>1</td>\n",
              "      <td>&lt;NA&gt;</td>\n",
              "      <td>&lt;NA&gt;</td>\n",
              "      <td>1</td>\n",
              "      <td>&lt;NA&gt;</td>\n",
              "      <td>1</td>\n",
              "      <td>&lt;NA&gt;</td>\n",
              "      <td>&lt;NA&gt;</td>\n",
              "      <td>0.0</td>\n",
              "      <td>New</td>\n",
              "    </tr>\n",
              "    <tr>\n",
              "      <th>3</th>\n",
              "      <td>2923-ARZLG</td>\n",
              "      <td>Male</td>\n",
              "      <td>0</td>\n",
              "      <td>1</td>\n",
              "      <td>1</td>\n",
              "      <td>0</td>\n",
              "      <td>1</td>\n",
              "      <td>No</td>\n",
              "      <td>No internet service</td>\n",
              "      <td>No internet service</td>\n",
              "      <td>...</td>\n",
              "      <td>1</td>\n",
              "      <td>&lt;NA&gt;</td>\n",
              "      <td>1</td>\n",
              "      <td>&lt;NA&gt;</td>\n",
              "      <td>&lt;NA&gt;</td>\n",
              "      <td>1</td>\n",
              "      <td>&lt;NA&gt;</td>\n",
              "      <td>&lt;NA&gt;</td>\n",
              "      <td>0.0</td>\n",
              "      <td>New</td>\n",
              "    </tr>\n",
              "    <tr>\n",
              "      <th>4</th>\n",
              "      <td>3213-VVOLG</td>\n",
              "      <td>Male</td>\n",
              "      <td>0</td>\n",
              "      <td>1</td>\n",
              "      <td>1</td>\n",
              "      <td>0</td>\n",
              "      <td>1</td>\n",
              "      <td>Yes</td>\n",
              "      <td>No internet service</td>\n",
              "      <td>No internet service</td>\n",
              "      <td>...</td>\n",
              "      <td>1</td>\n",
              "      <td>&lt;NA&gt;</td>\n",
              "      <td>&lt;NA&gt;</td>\n",
              "      <td>1</td>\n",
              "      <td>&lt;NA&gt;</td>\n",
              "      <td>1</td>\n",
              "      <td>&lt;NA&gt;</td>\n",
              "      <td>&lt;NA&gt;</td>\n",
              "      <td>0.0</td>\n",
              "      <td>New</td>\n",
              "    </tr>\n",
              "  </tbody>\n",
              "</table>\n",
              "<p>5 rows × 30 columns</p>\n",
              "</div>\n",
              "    <div class=\"colab-df-buttons\">\n",
              "\n",
              "  <div class=\"colab-df-container\">\n",
              "    <button class=\"colab-df-convert\" onclick=\"convertToInteractive('df-85e742d5-641a-48e9-a77f-7ee2bebb05b8')\"\n",
              "            title=\"Convert this dataframe to an interactive table.\"\n",
              "            style=\"display:none;\">\n",
              "\n",
              "  <svg xmlns=\"http://www.w3.org/2000/svg\" height=\"24px\" viewBox=\"0 -960 960 960\">\n",
              "    <path d=\"M120-120v-720h720v720H120Zm60-500h600v-160H180v160Zm220 220h160v-160H400v160Zm0 220h160v-160H400v160ZM180-400h160v-160H180v160Zm440 0h160v-160H620v160ZM180-180h160v-160H180v160Zm440 0h160v-160H620v160Z\"/>\n",
              "  </svg>\n",
              "    </button>\n",
              "\n",
              "  <style>\n",
              "    .colab-df-container {\n",
              "      display:flex;\n",
              "      gap: 12px;\n",
              "    }\n",
              "\n",
              "    .colab-df-convert {\n",
              "      background-color: #E8F0FE;\n",
              "      border: none;\n",
              "      border-radius: 50%;\n",
              "      cursor: pointer;\n",
              "      display: none;\n",
              "      fill: #1967D2;\n",
              "      height: 32px;\n",
              "      padding: 0 0 0 0;\n",
              "      width: 32px;\n",
              "    }\n",
              "\n",
              "    .colab-df-convert:hover {\n",
              "      background-color: #E2EBFA;\n",
              "      box-shadow: 0px 1px 2px rgba(60, 64, 67, 0.3), 0px 1px 3px 1px rgba(60, 64, 67, 0.15);\n",
              "      fill: #174EA6;\n",
              "    }\n",
              "\n",
              "    .colab-df-buttons div {\n",
              "      margin-bottom: 4px;\n",
              "    }\n",
              "\n",
              "    [theme=dark] .colab-df-convert {\n",
              "      background-color: #3B4455;\n",
              "      fill: #D2E3FC;\n",
              "    }\n",
              "\n",
              "    [theme=dark] .colab-df-convert:hover {\n",
              "      background-color: #434B5C;\n",
              "      box-shadow: 0px 1px 3px 1px rgba(0, 0, 0, 0.15);\n",
              "      filter: drop-shadow(0px 1px 2px rgba(0, 0, 0, 0.3));\n",
              "      fill: #FFFFFF;\n",
              "    }\n",
              "  </style>\n",
              "\n",
              "    <script>\n",
              "      const buttonEl =\n",
              "        document.querySelector('#df-85e742d5-641a-48e9-a77f-7ee2bebb05b8 button.colab-df-convert');\n",
              "      buttonEl.style.display =\n",
              "        google.colab.kernel.accessAllowed ? 'block' : 'none';\n",
              "\n",
              "      async function convertToInteractive(key) {\n",
              "        const element = document.querySelector('#df-85e742d5-641a-48e9-a77f-7ee2bebb05b8');\n",
              "        const dataTable =\n",
              "          await google.colab.kernel.invokeFunction('convertToInteractive',\n",
              "                                                    [key], {});\n",
              "        if (!dataTable) return;\n",
              "\n",
              "        const docLinkHtml = 'Like what you see? Visit the ' +\n",
              "          '<a target=\"_blank\" href=https://colab.research.google.com/notebooks/data_table.ipynb>data table notebook</a>'\n",
              "          + ' to learn more about interactive tables.';\n",
              "        element.innerHTML = '';\n",
              "        dataTable['output_type'] = 'display_data';\n",
              "        await google.colab.output.renderOutput(dataTable, element);\n",
              "        const docLink = document.createElement('div');\n",
              "        docLink.innerHTML = docLinkHtml;\n",
              "        element.appendChild(docLink);\n",
              "      }\n",
              "    </script>\n",
              "  </div>\n",
              "\n",
              "\n",
              "<div id=\"df-a4060393-e13b-4703-bb03-95fa73a2b0d5\">\n",
              "  <button class=\"colab-df-quickchart\" onclick=\"quickchart('df-a4060393-e13b-4703-bb03-95fa73a2b0d5')\"\n",
              "            title=\"Suggest charts\"\n",
              "            style=\"display:none;\">\n",
              "\n",
              "<svg xmlns=\"http://www.w3.org/2000/svg\" height=\"24px\"viewBox=\"0 0 24 24\"\n",
              "     width=\"24px\">\n",
              "    <g>\n",
              "        <path d=\"M19 3H5c-1.1 0-2 .9-2 2v14c0 1.1.9 2 2 2h14c1.1 0 2-.9 2-2V5c0-1.1-.9-2-2-2zM9 17H7v-7h2v7zm4 0h-2V7h2v10zm4 0h-2v-4h2v4z\"/>\n",
              "    </g>\n",
              "</svg>\n",
              "  </button>\n",
              "\n",
              "<style>\n",
              "  .colab-df-quickchart {\n",
              "      --bg-color: #E8F0FE;\n",
              "      --fill-color: #1967D2;\n",
              "      --hover-bg-color: #E2EBFA;\n",
              "      --hover-fill-color: #174EA6;\n",
              "      --disabled-fill-color: #AAA;\n",
              "      --disabled-bg-color: #DDD;\n",
              "  }\n",
              "\n",
              "  [theme=dark] .colab-df-quickchart {\n",
              "      --bg-color: #3B4455;\n",
              "      --fill-color: #D2E3FC;\n",
              "      --hover-bg-color: #434B5C;\n",
              "      --hover-fill-color: #FFFFFF;\n",
              "      --disabled-bg-color: #3B4455;\n",
              "      --disabled-fill-color: #666;\n",
              "  }\n",
              "\n",
              "  .colab-df-quickchart {\n",
              "    background-color: var(--bg-color);\n",
              "    border: none;\n",
              "    border-radius: 50%;\n",
              "    cursor: pointer;\n",
              "    display: none;\n",
              "    fill: var(--fill-color);\n",
              "    height: 32px;\n",
              "    padding: 0;\n",
              "    width: 32px;\n",
              "  }\n",
              "\n",
              "  .colab-df-quickchart:hover {\n",
              "    background-color: var(--hover-bg-color);\n",
              "    box-shadow: 0 1px 2px rgba(60, 64, 67, 0.3), 0 1px 3px 1px rgba(60, 64, 67, 0.15);\n",
              "    fill: var(--button-hover-fill-color);\n",
              "  }\n",
              "\n",
              "  .colab-df-quickchart-complete:disabled,\n",
              "  .colab-df-quickchart-complete:disabled:hover {\n",
              "    background-color: var(--disabled-bg-color);\n",
              "    fill: var(--disabled-fill-color);\n",
              "    box-shadow: none;\n",
              "  }\n",
              "\n",
              "  .colab-df-spinner {\n",
              "    border: 2px solid var(--fill-color);\n",
              "    border-color: transparent;\n",
              "    border-bottom-color: var(--fill-color);\n",
              "    animation:\n",
              "      spin 1s steps(1) infinite;\n",
              "  }\n",
              "\n",
              "  @keyframes spin {\n",
              "    0% {\n",
              "      border-color: transparent;\n",
              "      border-bottom-color: var(--fill-color);\n",
              "      border-left-color: var(--fill-color);\n",
              "    }\n",
              "    20% {\n",
              "      border-color: transparent;\n",
              "      border-left-color: var(--fill-color);\n",
              "      border-top-color: var(--fill-color);\n",
              "    }\n",
              "    30% {\n",
              "      border-color: transparent;\n",
              "      border-left-color: var(--fill-color);\n",
              "      border-top-color: var(--fill-color);\n",
              "      border-right-color: var(--fill-color);\n",
              "    }\n",
              "    40% {\n",
              "      border-color: transparent;\n",
              "      border-right-color: var(--fill-color);\n",
              "      border-top-color: var(--fill-color);\n",
              "    }\n",
              "    60% {\n",
              "      border-color: transparent;\n",
              "      border-right-color: var(--fill-color);\n",
              "    }\n",
              "    80% {\n",
              "      border-color: transparent;\n",
              "      border-right-color: var(--fill-color);\n",
              "      border-bottom-color: var(--fill-color);\n",
              "    }\n",
              "    90% {\n",
              "      border-color: transparent;\n",
              "      border-bottom-color: var(--fill-color);\n",
              "    }\n",
              "  }\n",
              "</style>\n",
              "\n",
              "  <script>\n",
              "    async function quickchart(key) {\n",
              "      const quickchartButtonEl =\n",
              "        document.querySelector('#' + key + ' button');\n",
              "      quickchartButtonEl.disabled = true;  // To prevent multiple clicks.\n",
              "      quickchartButtonEl.classList.add('colab-df-spinner');\n",
              "      try {\n",
              "        const charts = await google.colab.kernel.invokeFunction(\n",
              "            'suggestCharts', [key], {});\n",
              "      } catch (error) {\n",
              "        console.error('Error during call to suggestCharts:', error);\n",
              "      }\n",
              "      quickchartButtonEl.classList.remove('colab-df-spinner');\n",
              "      quickchartButtonEl.classList.add('colab-df-quickchart-complete');\n",
              "    }\n",
              "    (() => {\n",
              "      let quickchartButtonEl =\n",
              "        document.querySelector('#df-a4060393-e13b-4703-bb03-95fa73a2b0d5 button');\n",
              "      quickchartButtonEl.style.display =\n",
              "        google.colab.kernel.accessAllowed ? 'block' : 'none';\n",
              "    })();\n",
              "  </script>\n",
              "</div>\n",
              "\n",
              "    </div>\n",
              "  </div>\n"
            ],
            "application/vnd.google.colaboratory.intrinsic+json": {
              "type": "dataframe",
              "variable_name": "df"
            }
          },
          "metadata": {},
          "execution_count": 3
        }
      ]
    },
    {
      "cell_type": "code",
      "source": [
        "print(df.columns.tolist())"
      ],
      "metadata": {
        "colab": {
          "base_uri": "https://localhost:8080/"
        },
        "id": "nidz1CQYs-cx",
        "outputId": "745ec4c0-4af0-4fee-e99b-b941867ecc06"
      },
      "id": "nidz1CQYs-cx",
      "execution_count": null,
      "outputs": [
        {
          "output_type": "stream",
          "name": "stdout",
          "text": [
            "['customerID', 'gender', 'SeniorCitizen', 'Partner', 'Dependents', 'tenure', 'PhoneService', 'MultipleLines', 'OnlineSecurity', 'OnlineBackup', 'DeviceProtection', 'TechSupport', 'StreamingTV', 'StreamingMovies', 'PaperlessBilling', 'MonthlyCharges', 'TotalCharges', 'Churn', 'InternetService_dsl', 'InternetService_fiber_optic', 'InternetService_no', 'Contract_month-to-month', 'Contract_one_year', 'Contract_two_year', 'PaymentMethod_electronic_check', 'PaymentMethod_mailed_check', 'PaymentMethod_bank_transfer__automatic_', 'PaymentMethod_credit_card__automatic_', 'AvgMonthlySpend', 'TenureGroup']\n"
          ]
        }
      ]
    },
    {
      "cell_type": "code",
      "source": [
        "df.info()"
      ],
      "metadata": {
        "colab": {
          "base_uri": "https://localhost:8080/"
        },
        "id": "WNczRn9CyqMK",
        "outputId": "0e6ed296-ec9b-4b1d-ab3b-966b075aa0c2"
      },
      "id": "WNczRn9CyqMK",
      "execution_count": null,
      "outputs": [
        {
          "output_type": "stream",
          "name": "stdout",
          "text": [
            "<class 'pandas.core.frame.DataFrame'>\n",
            "RangeIndex: 7043 entries, 0 to 7042\n",
            "Data columns (total 30 columns):\n",
            " #   Column                                   Non-Null Count  Dtype  \n",
            "---  ------                                   --------------  -----  \n",
            " 0   customerID                               7043 non-null   object \n",
            " 1   gender                                   7043 non-null   object \n",
            " 2   SeniorCitizen                            7043 non-null   Int64  \n",
            " 3   Partner                                  7043 non-null   Int64  \n",
            " 4   Dependents                               7043 non-null   Int64  \n",
            " 5   tenure                                   7043 non-null   Int64  \n",
            " 6   PhoneService                             7043 non-null   Int64  \n",
            " 7   MultipleLines                            7043 non-null   object \n",
            " 8   OnlineSecurity                           7043 non-null   object \n",
            " 9   OnlineBackup                             7043 non-null   object \n",
            " 10  DeviceProtection                         7043 non-null   object \n",
            " 11  TechSupport                              7043 non-null   object \n",
            " 12  StreamingTV                              7043 non-null   object \n",
            " 13  StreamingMovies                          7043 non-null   object \n",
            " 14  PaperlessBilling                         7043 non-null   Int64  \n",
            " 15  MonthlyCharges                           7043 non-null   float64\n",
            " 16  TotalCharges                             7043 non-null   float64\n",
            " 17  Churn                                    7043 non-null   Int64  \n",
            " 18  InternetService_dsl                      2421 non-null   Int64  \n",
            " 19  InternetService_fiber_optic              3096 non-null   Int64  \n",
            " 20  InternetService_no                       1526 non-null   Int64  \n",
            " 21  Contract_month-to-month                  3875 non-null   Int64  \n",
            " 22  Contract_one_year                        1473 non-null   Int64  \n",
            " 23  Contract_two_year                        1695 non-null   Int64  \n",
            " 24  PaymentMethod_electronic_check           2365 non-null   Int64  \n",
            " 25  PaymentMethod_mailed_check               1612 non-null   Int64  \n",
            " 26  PaymentMethod_bank_transfer__automatic_  1544 non-null   Int64  \n",
            " 27  PaymentMethod_credit_card__automatic_    1522 non-null   Int64  \n",
            " 28  AvgMonthlySpend                          7043 non-null   float64\n",
            " 29  TenureGroup                              7043 non-null   object \n",
            "dtypes: Int64(17), float64(3), object(10)\n",
            "memory usage: 1.7+ MB\n"
          ]
        }
      ]
    },
    {
      "cell_type": "code",
      "source": [
        "X = df.drop(columns=[\"customerID\", \"Churn\"])\n",
        "y = df[\"Churn\"]\n"
      ],
      "metadata": {
        "id": "FOuU9wsZreUx"
      },
      "id": "FOuU9wsZreUx",
      "execution_count": null,
      "outputs": []
    },
    {
      "cell_type": "code",
      "source": [
        "import numpy as np\n",
        "from sklearn.preprocessing import StandardScaler, OneHotEncoder\n",
        "\n",
        "# Load data (assuming you have already fetched it from BigQuery)\n",
        "df = pd.DataFrame(X)  # X is your input data\n",
        "\n",
        "# Identify numerical and categorical columns\n",
        "numerical_cols = df.select_dtypes(include=[np.number]).columns\n",
        "categorical_cols = df.select_dtypes(exclude=[np.number]).columns\n",
        "\n",
        "# One-hot encode categorical columns\n",
        "df_encoded = pd.get_dummies(df, columns=categorical_cols, drop_first=True)\n",
        "\n",
        "# Standardize numerical features\n",
        "scaler = StandardScaler()\n",
        "df_encoded[numerical_cols] = scaler.fit_transform(df_encoded[numerical_cols])\n",
        "\n",
        "# Convert back to NumPy if needed\n",
        "X_scaled = df_encoded.values\n",
        "\n",
        "print(\"Data successfully scaled and encoded!\")\n"
      ],
      "metadata": {
        "colab": {
          "base_uri": "https://localhost:8080/"
        },
        "id": "A3KiSzc8uz0Z",
        "outputId": "1c3d87da-27e9-4c6d-9d80-9c06ca29e83b"
      },
      "id": "A3KiSzc8uz0Z",
      "execution_count": null,
      "outputs": [
        {
          "output_type": "stream",
          "name": "stdout",
          "text": [
            "Data successfully scaled and encoded!\n"
          ]
        }
      ]
    },
    {
      "cell_type": "code",
      "source": [
        "print(X_scaled)"
      ],
      "metadata": {
        "colab": {
          "base_uri": "https://localhost:8080/"
        },
        "id": "tF8iH7YWPcsj",
        "outputId": "05b3b8bf-91cb-42ee-8a23-3bf4fa061e2f"
      },
      "id": "tF8iH7YWPcsj",
      "execution_count": null,
      "outputs": [
        {
          "output_type": "stream",
          "name": "stdout",
          "text": [
            "[[-0.43991649313097614 -0.9666223112813243 1.5290240978948397 ... False\n",
            "  False True]\n",
            " [-0.43991649313097614 1.0345302279174904 1.5290240978948397 ... False\n",
            "  False True]\n",
            " [-0.43991649313097614 1.0345302279174904 1.5290240978948397 ... False\n",
            "  False True]\n",
            " ...\n",
            " [-0.43991649313097614 -0.9666223112813243 -0.6540119291623984 ... True\n",
            "  False False]\n",
            " [-0.43991649313097614 1.0345302279174904 1.5290240978948397 ... True\n",
            "  False False]\n",
            " [-0.43991649313097614 1.0345302279174904 1.5290240978948397 ... True\n",
            "  False False]]\n"
          ]
        }
      ]
    },
    {
      "cell_type": "code",
      "source": [
        "X_train, X_test, y_train, y_test = train_test_split(X_scaled, y, test_size=0.2, random_state=42)\n"
      ],
      "metadata": {
        "id": "UtqArvwJQcdz"
      },
      "id": "UtqArvwJQcdz",
      "execution_count": null,
      "outputs": []
    },
    {
      "cell_type": "code",
      "source": [
        "# Build Model\n",
        "model = tf.keras.models.Sequential([\n",
        "    tf.keras.layers.Dense(16, activation='relu', input_shape=(X_train.shape[1],)),\n",
        "    tf.keras.layers.Dense(8, activation='relu'),\n",
        "    tf.keras.layers.Dense(1, activation='sigmoid')\n",
        "])\n",
        "\n",
        "model.compile(optimizer='adam', loss='binary_crossentropy', metrics=['accuracy'])\n"
      ],
      "metadata": {
        "colab": {
          "base_uri": "https://localhost:8080/"
        },
        "id": "cyHjH97kQgA7",
        "outputId": "6b32b779-b111-41e7-da7a-6a53e87f377b"
      },
      "id": "cyHjH97kQgA7",
      "execution_count": null,
      "outputs": [
        {
          "output_type": "stream",
          "name": "stderr",
          "text": [
            "/usr/local/lib/python3.10/dist-packages/keras/src/layers/core/dense.py:87: UserWarning: Do not pass an `input_shape`/`input_dim` argument to a layer. When using Sequential models, prefer using an `Input(shape)` object as the first layer in the model instead.\n",
            "  super().__init__(activity_regularizer=activity_regularizer, **kwargs)\n"
          ]
        }
      ]
    },
    {
      "cell_type": "code",
      "source": [
        "import numpy as np\n",
        "import tensorflow as tf\n",
        "\n",
        "# Ensure all features are float32\n",
        "X_train = X_train.astype(np.float32)\n",
        "X_test = X_test.astype(np.float32)\n",
        "\n",
        "# Ensure labels are int32 if they are categorical (for classification)\n",
        "y_train = y_train.astype(np.int32)\n",
        "y_test = y_test.astype(np.int32)\n",
        "\n",
        "# Train Model\n",
        "model.fit(X_train, y_train, epochs=10, validation_data=(X_test, y_test))\n"
      ],
      "metadata": {
        "colab": {
          "base_uri": "https://localhost:8080/"
        },
        "id": "0eFTpq5YREU0",
        "outputId": "fcff77eb-6c03-46f4-bd77-2173068868ad"
      },
      "id": "0eFTpq5YREU0",
      "execution_count": null,
      "outputs": [
        {
          "output_type": "stream",
          "name": "stdout",
          "text": [
            "Epoch 1/10\n",
            "\u001b[1m177/177\u001b[0m \u001b[32m━━━━━━━━━━━━━━━━━━━━\u001b[0m\u001b[37m\u001b[0m \u001b[1m2s\u001b[0m 3ms/step - accuracy: 0.7290 - loss: nan - val_accuracy: 0.7317 - val_loss: nan\n",
            "Epoch 2/10\n",
            "\u001b[1m177/177\u001b[0m \u001b[32m━━━━━━━━━━━━━━━━━━━━\u001b[0m\u001b[37m\u001b[0m \u001b[1m0s\u001b[0m 2ms/step - accuracy: 0.7267 - loss: nan - val_accuracy: 0.7317 - val_loss: nan\n",
            "Epoch 3/10\n",
            "\u001b[1m177/177\u001b[0m \u001b[32m━━━━━━━━━━━━━━━━━━━━\u001b[0m\u001b[37m\u001b[0m \u001b[1m0s\u001b[0m 2ms/step - accuracy: 0.7485 - loss: nan - val_accuracy: 0.7317 - val_loss: nan\n",
            "Epoch 4/10\n",
            "\u001b[1m177/177\u001b[0m \u001b[32m━━━━━━━━━━━━━━━━━━━━\u001b[0m\u001b[37m\u001b[0m \u001b[1m1s\u001b[0m 2ms/step - accuracy: 0.7452 - loss: nan - val_accuracy: 0.7317 - val_loss: nan\n",
            "Epoch 5/10\n",
            "\u001b[1m177/177\u001b[0m \u001b[32m━━━━━━━━━━━━━━━━━━━━\u001b[0m\u001b[37m\u001b[0m \u001b[1m0s\u001b[0m 2ms/step - accuracy: 0.7395 - loss: nan - val_accuracy: 0.7317 - val_loss: nan\n",
            "Epoch 6/10\n",
            "\u001b[1m177/177\u001b[0m \u001b[32m━━━━━━━━━━━━━━━━━━━━\u001b[0m\u001b[37m\u001b[0m \u001b[1m0s\u001b[0m 3ms/step - accuracy: 0.7297 - loss: nan - val_accuracy: 0.7317 - val_loss: nan\n",
            "Epoch 7/10\n",
            "\u001b[1m177/177\u001b[0m \u001b[32m━━━━━━━━━━━━━━━━━━━━\u001b[0m\u001b[37m\u001b[0m \u001b[1m0s\u001b[0m 2ms/step - accuracy: 0.7319 - loss: nan - val_accuracy: 0.7317 - val_loss: nan\n",
            "Epoch 8/10\n",
            "\u001b[1m177/177\u001b[0m \u001b[32m━━━━━━━━━━━━━━━━━━━━\u001b[0m\u001b[37m\u001b[0m \u001b[1m0s\u001b[0m 2ms/step - accuracy: 0.7434 - loss: nan - val_accuracy: 0.7317 - val_loss: nan\n",
            "Epoch 9/10\n",
            "\u001b[1m177/177\u001b[0m \u001b[32m━━━━━━━━━━━━━━━━━━━━\u001b[0m\u001b[37m\u001b[0m \u001b[1m0s\u001b[0m 2ms/step - accuracy: 0.7273 - loss: nan - val_accuracy: 0.7317 - val_loss: nan\n",
            "Epoch 10/10\n",
            "\u001b[1m177/177\u001b[0m \u001b[32m━━━━━━━━━━━━━━━━━━━━\u001b[0m\u001b[37m\u001b[0m \u001b[1m0s\u001b[0m 2ms/step - accuracy: 0.7370 - loss: nan - val_accuracy: 0.7317 - val_loss: nan\n"
          ]
        },
        {
          "output_type": "execute_result",
          "data": {
            "text/plain": [
              "<keras.src.callbacks.history.History at 0x7c5f204676a0>"
            ]
          },
          "metadata": {},
          "execution_count": 11
        }
      ]
    },
    {
      "cell_type": "code",
      "source": [
        "# Save in Keras format (Recommended)\n",
        "model.save(\"churn_model.keras\")\n",
        "\n",
        "\n"
      ],
      "metadata": {
        "id": "8pPL8mhPQjrc"
      },
      "id": "8pPL8mhPQjrc",
      "execution_count": null,
      "outputs": []
    },
    {
      "cell_type": "code",
      "source": [
        "!gsutil cp -r churn_model.keras gs://customer-churn-storage-bucket/models/"
      ],
      "metadata": {
        "colab": {
          "base_uri": "https://localhost:8080/"
        },
        "id": "BTPlJ1ifRmds",
        "outputId": "16cee099-86e9-4522-82a4-e757410af9ee"
      },
      "id": "BTPlJ1ifRmds",
      "execution_count": null,
      "outputs": [
        {
          "output_type": "stream",
          "name": "stdout",
          "text": [
            "Copying file://churn_model.keras [Content-Type=application/octet-stream]...\n",
            "-\n",
            "Operation completed over 1 objects/29.0 KiB.                                     \n"
          ]
        }
      ]
    },
    {
      "cell_type": "code",
      "source": [
        "from google.colab import auth\n",
        "auth.authenticate_user()\n",
        "\n",
        "!gcloud auth login --quiet\n",
        "!gcloud config set project customer-churn-451414\n"
      ],
      "metadata": {
        "colab": {
          "base_uri": "https://localhost:8080/"
        },
        "id": "iOuLHMokc0XV",
        "outputId": "484dc7a6-d9b2-4564-8c8c-7b1c6a1e413e"
      },
      "id": "iOuLHMokc0XV",
      "execution_count": null,
      "outputs": [
        {
          "output_type": "stream",
          "name": "stdout",
          "text": [
            "WARNING: google.colab.auth.authenticate_user() is not supported in Colab Enterprise.\n",
            "Go to the following link in your browser, and complete the sign-in prompts:\n",
            "\n",
            "    https://accounts.google.com/o/oauth2/auth?response_type=code&client_id=32555940559.apps.googleusercontent.com&redirect_uri=https%3A%2F%2Fsdk.cloud.google.com%2Fauthcode.html&scope=openid+https%3A%2F%2Fwww.googleapis.com%2Fauth%2Fuserinfo.email+https%3A%2F%2Fwww.googleapis.com%2Fauth%2Fcloud-platform+https%3A%2F%2Fwww.googleapis.com%2Fauth%2Fappengine.admin+https%3A%2F%2Fwww.googleapis.com%2Fauth%2Fsqlservice.login+https%3A%2F%2Fwww.googleapis.com%2Fauth%2Fcompute+https%3A%2F%2Fwww.googleapis.com%2Fauth%2Faccounts.reauth&state=Ky2ZGpTPvOZtbl2ti1Ld4WF7ZvcuUA&prompt=consent&token_usage=remote&access_type=offline&code_challenge=VDU4jlZDTfD-qX6p3YoCAiGikRZg-iNMbGUd5IfmINo&code_challenge_method=S256\n",
            "\n",
            "Once finished, enter the verification code provided in your browser: 4/0AQSTgQEq9t-_B6UoWl5D0E9opsa57X7o4KMUM_hOlqPvMHmy-lVDg42l8bdtAeYnSf29vQ\n",
            "\n",
            "You are now logged in as [farisayob98@gmail.com].\n",
            "Your current project is [customer-churn-451414].  You can change this setting by running:\n",
            "  $ gcloud config set project PROJECT_ID\n",
            "Updated property [core/project].\n"
          ]
        }
      ]
    },
    {
      "cell_type": "code",
      "source": [
        "!gcloud config get-value ai/region\n"
      ],
      "metadata": {
        "colab": {
          "base_uri": "https://localhost:8080/"
        },
        "id": "KwOfjhM6eY31",
        "outputId": "7d283084-9eb7-4e59-9345-ee0897842c84"
      },
      "id": "KwOfjhM6eY31",
      "execution_count": null,
      "outputs": [
        {
          "output_type": "stream",
          "name": "stdout",
          "text": [
            "(unset)\n"
          ]
        }
      ]
    },
    {
      "cell_type": "code",
      "source": [
        "!gcloud config set ai/region us-central1\n"
      ],
      "metadata": {
        "colab": {
          "base_uri": "https://localhost:8080/"
        },
        "id": "FpAh1Wf7efmO",
        "outputId": "5c46a6d5-8c42-4a6c-95e3-fc32e984a559"
      },
      "id": "FpAh1Wf7efmO",
      "execution_count": null,
      "outputs": [
        {
          "output_type": "stream",
          "name": "stdout",
          "text": [
            "Updated property [ai/region].\n"
          ]
        }
      ]
    },
    {
      "cell_type": "code",
      "source": [
        "!gcloud config get-value ai/region"
      ],
      "metadata": {
        "colab": {
          "base_uri": "https://localhost:8080/"
        },
        "id": "EbiHimgyej3F",
        "outputId": "7ecc605d-2e95-496f-9044-52a13ec9aa62"
      },
      "id": "EbiHimgyej3F",
      "execution_count": null,
      "outputs": [
        {
          "output_type": "stream",
          "name": "stdout",
          "text": [
            "us-central1\n"
          ]
        }
      ]
    },
    {
      "cell_type": "code",
      "source": [
        "!gcloud ai models list --region=us-central1\n"
      ],
      "metadata": {
        "colab": {
          "base_uri": "https://localhost:8080/"
        },
        "id": "MlZMHsaIf4p1",
        "outputId": "59dcba83-6e8f-4634-efe2-ce094cd4cccd"
      },
      "id": "MlZMHsaIf4p1",
      "execution_count": null,
      "outputs": [
        {
          "output_type": "stream",
          "name": "stdout",
          "text": [
            "Using endpoint [https://us-central1-aiplatform.googleapis.com/]\n",
            "Listed 0 items.\n"
          ]
        }
      ]
    },
    {
      "cell_type": "code",
      "source": [
        "!gsutil ls gs://customer-churn-storage-bucket/models/\n"
      ],
      "metadata": {
        "colab": {
          "base_uri": "https://localhost:8080/"
        },
        "id": "KFT2MkvOgGae",
        "outputId": "900fcfa8-2b3f-4563-fa7b-97de87de0859"
      },
      "id": "KFT2MkvOgGae",
      "execution_count": null,
      "outputs": [
        {
          "output_type": "stream",
          "name": "stdout",
          "text": [
            "gs://customer-churn-storage-bucket/models/\n",
            "gs://customer-churn-storage-bucket/models/churn_model.keras\n"
          ]
        }
      ]
    },
    {
      "cell_type": "code",
      "source": [
        "!gsutil ls gs://customer-churn-storage-bucket/models/\n"
      ],
      "metadata": {
        "colab": {
          "base_uri": "https://localhost:8080/"
        },
        "id": "HekRokfchp_P",
        "outputId": "76fa1c51-4422-4635-c8a6-63cc897ce4f8"
      },
      "id": "HekRokfchp_P",
      "execution_count": null,
      "outputs": [
        {
          "output_type": "stream",
          "name": "stdout",
          "text": [
            "gs://customer-churn-storage-bucket/models/\n",
            "gs://customer-churn-storage-bucket/models/churn_model.keras\n"
          ]
        }
      ]
    },
    {
      "cell_type": "code",
      "source": [
        "!gcloud storage buckets list\n"
      ],
      "metadata": {
        "colab": {
          "base_uri": "https://localhost:8080/"
        },
        "id": "7O7h6qTvh7Pe",
        "outputId": "8443d5bb-69ac-4fc1-8cdf-9d2ff9616618"
      },
      "id": "7O7h6qTvh7Pe",
      "execution_count": null,
      "outputs": [
        {
          "output_type": "stream",
          "name": "stdout",
          "text": [
            "---\n",
            "creation_time: 2025-02-19T14:03:29+0000\n",
            "default_storage_class: STANDARD\n",
            "generation: 1739973807725754051\n",
            "location: ASIA\n",
            "location_type: multi-region\n",
            "metageneration: 2\n",
            "name: customer-churn-storage-bucket\n",
            "public_access_prevention: inherited\n",
            "rpo: DEFAULT\n",
            "soft_delete_policy:\n",
            "  retentionDurationSeconds: '0'\n",
            "storage_url: gs://customer-churn-storage-bucket/\n",
            "uniform_bucket_level_access: true\n",
            "update_time: 2025-02-25T14:19:41+0000\n"
          ]
        }
      ]
    },
    {
      "cell_type": "code",
      "source": [
        "!gsutil ls gs://customer-churn-storage-bucket/models/\n"
      ],
      "metadata": {
        "colab": {
          "base_uri": "https://localhost:8080/"
        },
        "id": "RgHhfKZTkN0G",
        "outputId": "139d92fc-4c3d-436e-d22f-61ebb8a1e3ad"
      },
      "id": "RgHhfKZTkN0G",
      "execution_count": null,
      "outputs": [
        {
          "output_type": "stream",
          "name": "stdout",
          "text": [
            "gs://customer-churn-storage-bucket/models/\n",
            "gs://customer-churn-storage-bucket/models/churn_model.keras\n"
          ]
        }
      ]
    },
    {
      "cell_type": "code",
      "source": [
        "# Specify a directory to save the model\n",
        "save_path = 'gs://customer-churn-storage-bucket/models/'\n",
        "\n",
        "# Save the model in SavedModel format\n",
        "tf.saved_model.save(model, save_path)"
      ],
      "metadata": {
        "id": "ykqgD3rHjOdy"
      },
      "id": "ykqgD3rHjOdy",
      "execution_count": null,
      "outputs": []
    },
    {
      "cell_type": "code",
      "source": [
        "!gcloud ai models upload \\\n",
        "    --region=asia-southeast1 \\\n",
        "    --display-name=saved_model.pb \\\n",
        "    --artifact-uri=gs://customer-churn-storage-bucket/models/ \\\n",
        "    --container-image-uri=gcr.io/cloud-aiplatform/prediction/tf2-cpu.2-8:latest\n",
        "\n"
      ],
      "metadata": {
        "colab": {
          "base_uri": "https://localhost:8080/"
        },
        "id": "IECQaP_JkZGX",
        "outputId": "f27f17eb-b8cb-42e6-c56a-a8415e135966"
      },
      "id": "IECQaP_JkZGX",
      "execution_count": null,
      "outputs": [
        {
          "output_type": "stream",
          "name": "stdout",
          "text": [
            "Using endpoint [https://asia-southeast1-aiplatform.googleapis.com/]\n"
          ]
        }
      ]
    },
    {
      "cell_type": "code",
      "source": [
        "!gsutil ls gs://customer-churn-storage-bucket/models/\n"
      ],
      "metadata": {
        "colab": {
          "base_uri": "https://localhost:8080/"
        },
        "id": "_hENQx28kxDR",
        "outputId": "14d25531-ab22-4aa3-dd15-9daff93776dc"
      },
      "id": "_hENQx28kxDR",
      "execution_count": null,
      "outputs": [
        {
          "output_type": "stream",
          "name": "stdout",
          "text": [
            "gs://customer-churn-storage-bucket/models/\n",
            "gs://customer-churn-storage-bucket/models/churn_model.keras\n",
            "gs://customer-churn-storage-bucket/models/fingerprint.pb\n",
            "gs://customer-churn-storage-bucket/models/saved_model.pb\n",
            "gs://customer-churn-storage-bucket/models/assets/\n",
            "gs://customer-churn-storage-bucket/models/variables/\n"
          ]
        }
      ]
    },
    {
      "cell_type": "code",
      "source": [
        "!gcloud ai models list --region=asia-southeast1"
      ],
      "metadata": {
        "colab": {
          "base_uri": "https://localhost:8080/"
        },
        "id": "EoWPhAC1k5zx",
        "outputId": "f3da6748-5dea-470e-bf06-ba6017248125"
      },
      "id": "EoWPhAC1k5zx",
      "execution_count": null,
      "outputs": [
        {
          "output_type": "stream",
          "name": "stdout",
          "text": [
            "Using endpoint [https://asia-southeast1-aiplatform.googleapis.com/]\n",
            "MODEL_ID             DISPLAY_NAME\n",
            "6478150987042258944  saved_model.pb\n"
          ]
        }
      ]
    },
    {
      "cell_type": "code",
      "source": [
        "!gcloud ai endpoints create \\\n",
        "    --region=asia-southeast1 \\\n",
        "    --display-name=churn_model_endpoint\n"
      ],
      "metadata": {
        "colab": {
          "base_uri": "https://localhost:8080/"
        },
        "id": "Zg7Zkij3lNwJ",
        "outputId": "cc2fd72b-005a-4bb5-9c57-73de83b4cd94"
      },
      "id": "Zg7Zkij3lNwJ",
      "execution_count": null,
      "outputs": [
        {
          "output_type": "stream",
          "name": "stdout",
          "text": [
            "Using endpoint [https://asia-southeast1-aiplatform.googleapis.com/]\n",
            "Created Vertex AI endpoint: projects/236600548056/locations/asia-southeast1/endpoints/6825895728582230016.\n"
          ]
        }
      ]
    },
    {
      "cell_type": "code",
      "source": [
        "!gcloud version"
      ],
      "metadata": {
        "colab": {
          "base_uri": "https://localhost:8080/"
        },
        "id": "K8SXmOuTpB_C",
        "outputId": "3edd650e-e603-46fc-bd87-5ec3b60da88b"
      },
      "id": "K8SXmOuTpB_C",
      "execution_count": null,
      "outputs": [
        {
          "output_type": "stream",
          "name": "stdout",
          "text": [
            "Google Cloud SDK 505.0.0\n"
          ]
        }
      ]
    },
    {
      "cell_type": "code",
      "source": [
        "!gcloud ai endpoints list --region=asia-southeast1"
      ],
      "metadata": {
        "colab": {
          "base_uri": "https://localhost:8080/"
        },
        "id": "oFkNYXtBpGgb",
        "outputId": "22eb14cf-f739-4bb3-b8b1-1c60ca8c0fff"
      },
      "id": "oFkNYXtBpGgb",
      "execution_count": null,
      "outputs": [
        {
          "output_type": "stream",
          "name": "stdout",
          "text": [
            "Using endpoint [https://asia-southeast1-aiplatform.googleapis.com/]\n",
            "ENDPOINT_ID          DISPLAY_NAME\n",
            "6825895728582230016  churn_model_endpoint\n"
          ]
        }
      ]
    },
    {
      "cell_type": "code",
      "source": [
        "!gcloud ai endpoints list --region=asia-southeast1 --format=\"value(name)\""
      ],
      "metadata": {
        "colab": {
          "base_uri": "https://localhost:8080/"
        },
        "id": "-7KjIHe_pVcr",
        "outputId": "b56977f1-49c2-4f23-a8fb-89ddb99e6c8c"
      },
      "id": "-7KjIHe_pVcr",
      "execution_count": null,
      "outputs": [
        {
          "output_type": "stream",
          "name": "stdout",
          "text": [
            "Using endpoint [https://asia-southeast1-aiplatform.googleapis.com/]\n",
            "6825895728582230016\n"
          ]
        }
      ]
    },
    {
      "cell_type": "code",
      "source": [
        "!gcloud config set project 236600548056"
      ],
      "metadata": {
        "colab": {
          "base_uri": "https://localhost:8080/"
        },
        "id": "ZXrmuWQUp96K",
        "outputId": "a0c3b160-fb8b-4e51-b242-f9007984aec2"
      },
      "id": "ZXrmuWQUp96K",
      "execution_count": null,
      "outputs": [
        {
          "output_type": "stream",
          "name": "stdout",
          "text": [
            "Updated property [core/project].\n"
          ]
        }
      ]
    },
    {
      "cell_type": "code",
      "source": [
        "!gcloud services enable aiplatform.googleapis.com --project=236600548056"
      ],
      "metadata": {
        "id": "zC9-0a8_qT2i"
      },
      "id": "zC9-0a8_qT2i",
      "execution_count": null,
      "outputs": []
    },
    {
      "cell_type": "code",
      "source": [
        "!gcloud ai endpoints deploy-model 6825895728582230016 \\\n",
        "  --region=asia-southeast1 \\\n",
        "  --display-name=churn_model_deployment \\\n",
        "  --model=6478150987042258944 \\\n",
        "  --machine-type=n1-standard-4 \\\n",
        "  --traffic-split=0=100"
      ],
      "metadata": {
        "colab": {
          "base_uri": "https://localhost:8080/"
        },
        "id": "esgSnTI_qlQF",
        "outputId": "1f5bf867-7c8e-489d-e7f9-9d4463ca34fb"
      },
      "id": "esgSnTI_qlQF",
      "execution_count": null,
      "outputs": [
        {
          "output_type": "stream",
          "name": "stdout",
          "text": [
            "Using endpoint [https://asia-southeast1-aiplatform.googleapis.com/]\n",
            "Deployed a model to the endpoint 6825895728582230016. Id of the deployed model: 3139743414044590080.\n"
          ]
        }
      ]
    },
    {
      "cell_type": "code",
      "source": [
        "!gcloud projects list"
      ],
      "metadata": {
        "colab": {
          "base_uri": "https://localhost:8080/"
        },
        "id": "e-4T9vnDsIe8",
        "outputId": "908bb53a-9989-4a9f-8102-55cfe696bb24"
      },
      "id": "e-4T9vnDsIe8",
      "execution_count": null,
      "outputs": [
        {
          "output_type": "stream",
          "name": "stdout",
          "text": [
            "PROJECT_ID                NAME               PROJECT_NUMBER\n",
            "abiding-base-449307-d4    My First Project   403515473097\n",
            "customer-churn-451414     customer-churn     236600548056\n",
            "taxi-data-project-449307  taxi-data-project  804700731604\n"
          ]
        }
      ]
    },
    {
      "cell_type": "code",
      "source": [
        "!gcloud config set core/project customer-churn-451414  # Replace 'my-project-123' with your actual project ID"
      ],
      "metadata": {
        "colab": {
          "base_uri": "https://localhost:8080/"
        },
        "id": "vv44MkWBsbc0",
        "outputId": "c5ea3d87-dc75-4303-8aea-db90a392e49f"
      },
      "id": "vv44MkWBsbc0",
      "execution_count": null,
      "outputs": [
        {
          "output_type": "stream",
          "name": "stdout",
          "text": [
            "Updated property [core/project].\n"
          ]
        }
      ]
    },
    {
      "cell_type": "code",
      "source": [
        "!gcloud ai endpoints deploy-model --help"
      ],
      "metadata": {
        "colab": {
          "base_uri": "https://localhost:8080/"
        },
        "id": "BieQtoQvriGC",
        "outputId": "0ec82b69-87b9-4d18-d8f6-2c1b7bd5e905"
      },
      "id": "BieQtoQvriGC",
      "execution_count": null,
      "outputs": [
        {
          "output_type": "stream",
          "name": "stdout",
          "text": [
            "\u001b[m\u001b[1mNAME\u001b[m\n",
            "    gcloud ai endpoints deploy-model - deploy a model to an existing Vertex AI\n",
            "        endpoint\n",
            "\n",
            "\u001b[m\u001b[1mSYNOPSIS\u001b[m\n",
            "    \u001b[1mgcloud ai endpoints deploy-model\u001b[m (\u001b[4mENDPOINT\u001b[m : \u001b[1m--region\u001b[m=\u001b[4mREGION\u001b[m)\n",
            "        \u001b[1m--display-name\u001b[m=\u001b[4mDISPLAY_NAME\u001b[m \u001b[1m--model\u001b[m=\u001b[4mMODEL\u001b[m\n",
            "        [\u001b[1m--accelerator\u001b[m=[\u001b[4mcount\u001b[m=\u001b[4mCOUNT\u001b[m],[\u001b[4mtype\u001b[m=\u001b[4mTYPE\u001b[m]]\n",
            "        [\u001b[1m--autoscaling-metric-specs\u001b[m=[\u001b[4mMETRIC-NAME\u001b[m=\u001b[4mTARGET\u001b[m,...]]\n",
            "        [\u001b[1m--deployed-model-id\u001b[m=\u001b[4mDEPLOYED_MODEL_ID\u001b[m] [\u001b[1m--disable-container-logging\u001b[m]\n",
            "        [\u001b[1m--enable-access-logging\u001b[m] [\u001b[1m--machine-type\u001b[m=\u001b[4mMACHINE_TYPE\u001b[m]\n",
            "        [\u001b[1m--max-replica-count\u001b[m=\u001b[4mMAX_REPLICA_COUNT\u001b[m]\n",
            "        [\u001b[1m--min-replica-count\u001b[m=\u001b[4mMIN_REPLICA_COUNT\u001b[m]\n",
            "        [\u001b[1m--reservation-affinity\u001b[m=[\u001b[4mkey\u001b[m=\u001b[4mKEY\u001b[m],\n",
            "          [\u001b[4mreservation-affinity-type\u001b[m=\u001b[4mRESERVATION-AFFINITY-TYPE\u001b[m],\n",
            "          [\u001b[4mvalues\u001b[m=\u001b[4mVALUES\u001b[m]] [\u001b[1m--service-account\u001b[m=\u001b[4mSERVICE_ACCOUNT\u001b[m] [\u001b[1m--spot\u001b[m]\n",
            "        [\u001b[1m--traffic-split\u001b[m=[\u001b[4mDEPLOYED_MODEL_ID\u001b[m=\u001b[4mVALUE\u001b[m,...]] [\u001b[4mGCLOUD_WIDE_FLAG ...\u001b[m]\n",
            "\n",
            "\u001b[m\u001b[1mEXAMPLES\u001b[m\n",
            "    To deploy a model \u001b[1m\u001b[1;4m456\u001b[1m\u001b[m to an endpoint \u001b[1m\u001b[1;4m123\u001b[1m\u001b[m under project \u001b[1m\u001b[1;4mexample\u001b[1m\u001b[m in region\n",
            "    \u001b[1m\u001b[1;4mus-central1\u001b[1m\u001b[m, run:\n",
            "\n",
            "        $ gcloud ai endpoints deploy-model 123 --project=example \\\n",
            "            --region=us-central1 --model=456 \\\n",
            "            --display-name=my_deployed_model\n",
            "\n",
            "\u001b[m\u001b[1mPOSITIONAL ARGUMENTS\u001b[m\n",
            "     Endpoint resource - The endpoint to deploy a model to. The arguments in\n",
            "     this group can be used to specify the attributes of this resource. (NOTE)\n",
            "     Some attributes are not given arguments in this group but can be set in\n",
            "     other ways.\n",
            "\n",
            "     To set the \u001b[1mproject\u001b[m attribute:\n",
            "      ◆ provide the argument \u001b[1mendpoint\u001b[m on the command line with a fully\n",
            "        specified name;\n",
            "      ◆ provide the argument \u001b[1m--project\u001b[m on the command line;\n",
            "      ◆ set the property \u001b[1mcore/project\u001b[m.\n",
            "\n",
            "     This must be specified.\n",
            "\n",
            "       \u001b[4mENDPOINT\u001b[m\n",
            "          ID of the endpoint or fully qualified identifier for the endpoint.\n",
            "\n",
            "          To set the \u001b[1mname\u001b[m attribute:\n",
            "          ▸ provide the argument \u001b[1mendpoint\u001b[m on the command line.\n",
            "\n",
            "          This positional argument must be specified if any of the other\n",
            "          arguments in this group are specified.\n",
            "\n",
            "       \u001b[1m--region\u001b[m=\u001b[4mREGION\u001b[m\n",
            "          Cloud region for the endpoint.\n",
            "\n",
            "          To set the \u001b[1mregion\u001b[m attribute:\n",
            "          ▸ provide the argument \u001b[1mendpoint\u001b[m on the command line with a fully\n",
            "            specified name;\n",
            "          ▸ provide the argument \u001b[1m--region\u001b[m on the command line;\n",
            "          ▸ set the property \u001b[1mai/region\u001b[m;\n",
            "          ▸ choose one from the prompted list of available regions.\n",
            "\n",
            "\u001b[m\u001b[1mREQUIRED FLAGS\u001b[m\n",
            "     \u001b[1m--display-name\u001b[m=\u001b[4mDISPLAY_NAME\u001b[m\n",
            "        Display name of the deployed model.\n",
            "\n",
            "     \u001b[1m--model\u001b[m=\u001b[4mMODEL\u001b[m\n",
            "        Id of the uploaded model.\n",
            "\n",
            "\u001b[m\u001b[1mOPTIONAL FLAGS\u001b[m\n",
            "     \u001b[1m--accelerator\u001b[m=[\u001b[4mcount\u001b[m=\u001b[4mCOUNT\u001b[m],[\u001b[4mtype\u001b[m=\u001b[4mTYPE\u001b[m]\n",
            "        Manage the accelerator config for GPU serving. When deploying a model\n",
            "        with Compute Engine Machine Types, a GPU accelerator may also be\n",
            "        selected.\n",
            "\n",
            "         \u001b[1mtype\u001b[m\n",
            "            The type of the accelerator. Choices are 'nvidia-a100-80gb',\n",
            "            'nvidia-h100-80gb', 'nvidia-h100-mega-80gb', 'nvidia-l4',\n",
            "            'nvidia-tesla-a100', 'nvidia-tesla-k80', 'nvidia-tesla-p100',\n",
            "            'nvidia-tesla-p4', 'nvidia-tesla-t4', 'nvidia-tesla-v100'.\n",
            "\n",
            "         \u001b[1mcount\u001b[m\n",
            "            The number of accelerators to attach to each machine running the\n",
            "            job. This is usually 1. If not specified, the default value is 1.\n",
            "\n",
            "            For example: \u001b[1m--accelerator=type=nvidia-tesla-k80,count=1\u001b[m\n",
            "\n",
            "     \u001b[1m--autoscaling-metric-specs\u001b[m=[\u001b[4mMETRIC-NAME\u001b[m=\u001b[4mTARGET\u001b[m,...]\n",
            "        Metric specifications that overrides a resource utilization metric's\n",
            "        target value. At most one entry is allowed per metric.\n",
            "\n",
            "         \u001b[1mMETRIC-NAME\u001b[m\n",
            "            Resource metric name. Choices are 'cpu-usage', 'gpu-duty-cycle'.\n",
            "\n",
            "         \u001b[1mTARGET\u001b[m\n",
            "            Target resource utilization in percentage (1% - 100%) for the given\n",
            "            metric. If the value is set to 60, the target resource utilization\n",
            "            is 60%.\n",
            "\n",
            "            For example: \u001b[1m--autoscaling-metric-specs=cpu-usage=70\u001b[m\n",
            "\n",
            "     \u001b[1m--deployed-model-id\u001b[m=\u001b[4mDEPLOYED_MODEL_ID\u001b[m\n",
            "        User-specified ID of the deployed-model.\n",
            "\n",
            "     \u001b[1m--disable-container-logging\u001b[m\n",
            "        For custom-trained Models and AutoML Tabular Models, the container of\n",
            "        the deployed model instances will send \u001b[1mstderr\u001b[m and \u001b[1mstdout\u001b[m streams to\n",
            "        Cloud Logging by default. Please note that the logs incur cost, which\n",
            "        are subject to Cloud Logging pricing\n",
            "        (https://cloud.google.com/stackdriver/pricing).\n",
            "\n",
            "        User can disable container logging by setting this flag to true.\n",
            "\n",
            "     \u001b[1m--enable-access-logging\u001b[m\n",
            "        If true, online prediction access logs are sent to Cloud Logging.\n",
            "\n",
            "        These logs are standard server access logs, containing information like\n",
            "        timestamp and latency for each prediction request.\n",
            "\n",
            "     \u001b[1m--machine-type\u001b[m=\u001b[4mMACHINE_TYPE\u001b[m\n",
            "        The machine resources to be used for each node of this deployment. For\n",
            "        available machine types, see\n",
            "        https://cloud.google.com/ai-platform-unified/docs/predictions/machine-types.\n",
            "\n",
            "     \u001b[1m--max-replica-count\u001b[m=\u001b[4mMAX_REPLICA_COUNT\u001b[m\n",
            "        Maximum number of machine replicas for the deployment resources the\n",
            "        model will be deployed on.\n",
            "\n",
            "     \u001b[1m--min-replica-count\u001b[m=\u001b[4mMIN_REPLICA_COUNT\u001b[m\n",
            "        Minimum number of machine replicas for the deployment resources the\n",
            "        model will be deployed on. If specified, the value must be equal to or\n",
            "        larger than 1.\n",
            "\n",
            "        If not specified and the uploaded models use dedicated resources, the\n",
            "        default value is 1.\n",
            "\n",
            "     \u001b[1m--reservation-affinity\u001b[m=[\u001b[4mkey\u001b[m=\u001b[4mKEY\u001b[m],[\u001b[4mreservation-affinity-type\u001b[m=\u001b[4mRESERVATION-AFFINITY-TYPE\u001b[m],[\u001b[4mvalues\u001b[m=\u001b[4mVALUES\u001b[m]\n",
            "        A ReservationAffinity can be used to configure a Vertex AI resource\n",
            "        (e.g., a DeployedModel) to draw its Compute Engine resources from a\n",
            "        Shared Reservation, or exclusively from on-demand capacity.\n",
            "\n",
            "     \u001b[1m--service-account\u001b[m=\u001b[4mSERVICE_ACCOUNT\u001b[m\n",
            "        Service account that the deployed model's container runs as. Specify\n",
            "        the email address of the service account. If this service account is\n",
            "        not specified, the container runs as a service account that doesn't\n",
            "        have access to the resource project.\n",
            "\n",
            "     \u001b[1m--spot\u001b[m\n",
            "        If true, online prediction access logs are sent to Cloud Logging.\n",
            "\n",
            "        These logs are standard server access logs, containing information like\n",
            "        timestamp and latency for each prediction request.\n",
            "\n",
            "     \u001b[1m--traffic-split\u001b[m=[\u001b[4mDEPLOYED_MODEL_ID\u001b[m=\u001b[4mVALUE\u001b[m,...]\n",
            "        List of pairs of deployed model id and value to set as traffic split.\n",
            "\n",
            "\u001b[m\u001b[1mGCLOUD WIDE FLAGS\u001b[m\n",
            "    These flags are available to all commands: --access-token-file, --account,\n",
            "    --billing-project, --configuration, --flags-file, --flatten, --format,\n",
            "    --help, --impersonate-service-account, --log-http, --project, --quiet,\n",
            "    --trace-token, --user-output-enabled, --verbosity.\n",
            "\n",
            "    Run \u001b[1m$ gcloud help\u001b[m for details.\n",
            "\n",
            "\u001b[m\u001b[1mNOTES\u001b[m\n",
            "    These variants are also available:\n",
            "\n",
            "        $ gcloud alpha ai endpoints deploy-model\n",
            "\n",
            "        $ gcloud beta ai endpoints deploy-model\n",
            "\n",
            "\u001b[m"
          ]
        }
      ]
    }
  ],
  "metadata": {
    "kernelspec": {
      "display_name": "Python 3",
      "language": "python",
      "name": "python3"
    },
    "language_info": {
      "codemirror_mode": {
        "name": "ipython",
        "version": 3
      },
      "file_extension": ".py",
      "mimetype": "text/x-python",
      "name": "python",
      "nbconvert_exporter": "python",
      "pygments_lexer": "ipython3",
      "version": "3.10.10"
    },
    "colab": {
      "provenance": [],
      "name": "farisayob98 (Mar 2, 2025, 3:02:01 PM)"
    }
  },
  "nbformat": 4,
  "nbformat_minor": 5
}